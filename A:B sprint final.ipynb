{
 "cells": [
  {
   "cell_type": "markdown",
   "metadata": {},
   "source": [
    "### Prueba A/B"
   ]
  },
  {
   "cell_type": "code",
   "execution_count": 60,
   "metadata": {},
   "outputs": [],
   "source": [
    "import pandas as pd\n",
    "import matplotlib.pyplot as plt\n",
    "import seaborn as sns\n",
    "import numpy as np\n",
    "from statsmodels.stats.proportion import proportions_ztest"
   ]
  },
  {
   "cell_type": "code",
   "execution_count": 3,
   "metadata": {},
   "outputs": [],
   "source": [
    "participants_df = pd.read_csv('/datasets/final_ab_participants_upd_us.csv')\n",
    "new_users_df = pd.read_csv('/datasets/final_ab_new_users_upd_us.csv')\n",
    "events_df = pd.read_csv('/datasets/final_ab_events_upd_us.csv')\n",
    "marketing_df = pd.read_csv('/datasets/ab_project_marketing_events_us.csv')"
   ]
  },
  {
   "cell_type": "code",
   "execution_count": 4,
   "metadata": {},
   "outputs": [
    {
     "name": "stdout",
     "output_type": "stream",
     "text": [
      "Estructura participants_df:\n",
      "<class 'pandas.core.frame.DataFrame'>\n",
      "RangeIndex: 14525 entries, 0 to 14524\n",
      "Data columns (total 3 columns):\n",
      " #   Column   Non-Null Count  Dtype \n",
      "---  ------   --------------  ----- \n",
      " 0   user_id  14525 non-null  object\n",
      " 1   group    14525 non-null  object\n",
      " 2   ab_test  14525 non-null  object\n",
      "dtypes: object(3)\n",
      "memory usage: 340.6+ KB\n",
      "None\n",
      "\n",
      "Estructura new_users_df:\n",
      "<class 'pandas.core.frame.DataFrame'>\n",
      "RangeIndex: 58703 entries, 0 to 58702\n",
      "Data columns (total 4 columns):\n",
      " #   Column      Non-Null Count  Dtype \n",
      "---  ------      --------------  ----- \n",
      " 0   user_id     58703 non-null  object\n",
      " 1   first_date  58703 non-null  object\n",
      " 2   region      58703 non-null  object\n",
      " 3   device      58703 non-null  object\n",
      "dtypes: object(4)\n",
      "memory usage: 1.8+ MB\n",
      "None\n",
      "\n",
      "Estructura events_df:\n",
      "<class 'pandas.core.frame.DataFrame'>\n",
      "RangeIndex: 423761 entries, 0 to 423760\n",
      "Data columns (total 4 columns):\n",
      " #   Column      Non-Null Count   Dtype  \n",
      "---  ------      --------------   -----  \n",
      " 0   user_id     423761 non-null  object \n",
      " 1   event_dt    423761 non-null  object \n",
      " 2   event_name  423761 non-null  object \n",
      " 3   details     60314 non-null   float64\n",
      "dtypes: float64(1), object(3)\n",
      "memory usage: 12.9+ MB\n",
      "None\n",
      "\n",
      "Estructura marketing_df:\n",
      "<class 'pandas.core.frame.DataFrame'>\n",
      "RangeIndex: 14 entries, 0 to 13\n",
      "Data columns (total 4 columns):\n",
      " #   Column     Non-Null Count  Dtype \n",
      "---  ------     --------------  ----- \n",
      " 0   name       14 non-null     object\n",
      " 1   regions    14 non-null     object\n",
      " 2   start_dt   14 non-null     object\n",
      " 3   finish_dt  14 non-null     object\n",
      "dtypes: object(4)\n",
      "memory usage: 576.0+ bytes\n",
      "None\n"
     ]
    }
   ],
   "source": [
    "print(\"Estructura participants_df:\")\n",
    "print(participants_df.info())\n",
    "\n",
    "print(\"\\nEstructura new_users_df:\")\n",
    "print(new_users_df.info())\n",
    "\n",
    "print(\"\\nEstructura events_df:\")\n",
    "print(events_df.info())\n",
    "\n",
    "print(\"\\nEstructura marketing_df:\")\n",
    "print(marketing_df.info())"
   ]
  },
  {
   "cell_type": "code",
   "execution_count": 6,
   "metadata": {},
   "outputs": [],
   "source": [
    "new_users_df['first_date'] = pd.to_datetime(new_users_df['first_date'])\n",
    "events_df['event_dt'] = pd.to_datetime(events_df['event_dt'])\n",
    "marketing_df['start_dt'] = pd.to_datetime(marketing_df['start_dt'])\n",
    "marketing_df['finish_dt'] = pd.to_datetime(marketing_df['finish_dt'])"
   ]
  },
  {
   "cell_type": "code",
   "execution_count": 8,
   "metadata": {},
   "outputs": [
    {
     "name": "stdout",
     "output_type": "stream",
     "text": [
      "Duplicados:\n",
      "- participants_df: 0\n",
      "- new_users_df: 0\n",
      "- events_df: 0\n",
      "- marketing_df: 0\n"
     ]
    }
   ],
   "source": [
    "print(\"Duplicados:\")\n",
    "print(\"- participants_df:\", participants_df.duplicated().sum())\n",
    "print(\"- new_users_df:\", new_users_df.duplicated().sum())\n",
    "print(\"- events_df:\", events_df.duplicated().sum())\n",
    "print(\"- marketing_df:\", marketing_df.duplicated().sum())\n"
   ]
  },
  {
   "cell_type": "code",
   "execution_count": 9,
   "metadata": {},
   "outputs": [
    {
     "name": "stdout",
     "output_type": "stream",
     "text": [
      "\n",
      "Valores nulos:\n",
      "participants_df:\n",
      " user_id    0\n",
      "group      0\n",
      "ab_test    0\n",
      "dtype: int64\n",
      "\n",
      "new_users_df:\n",
      " user_id       0\n",
      "first_date    0\n",
      "region        0\n",
      "device        0\n",
      "dtype: int64\n",
      "\n",
      "events_df:\n",
      " user_id            0\n",
      "event_dt           0\n",
      "event_name         0\n",
      "details       363447\n",
      "dtype: int64\n",
      "\n",
      "marketing_df:\n",
      " name         0\n",
      "regions      0\n",
      "start_dt     0\n",
      "finish_dt    0\n",
      "dtype: int64\n"
     ]
    }
   ],
   "source": [
    "print(\"\\nValores nulos:\")\n",
    "print(\"participants_df:\\n\", participants_df.isnull().sum())\n",
    "print(\"\\nnew_users_df:\\n\", new_users_df.isnull().sum())\n",
    "print(\"\\nevents_df:\\n\", events_df.isnull().sum())\n",
    "print(\"\\nmarketing_df:\\n\", marketing_df.isnull().sum())"
   ]
  },
  {
   "cell_type": "code",
   "execution_count": 11,
   "metadata": {},
   "outputs": [
    {
     "name": "stdout",
     "output_type": "stream",
     "text": [
      "\n",
      "Eventos 'purchase' con 'details' nulo: 0\n"
     ]
    }
   ],
   "source": [
    "nulos_purchase = events_df[(events_df['event_name'] == 'purchase') & (events_df['details'].isnull())]\n",
    "print(f\"\\nEventos 'purchase' con 'details' nulo: {nulos_purchase.shape[0]}\")"
   ]
  },
  {
   "cell_type": "code",
   "execution_count": 13,
   "metadata": {},
   "outputs": [
    {
     "name": "stdout",
     "output_type": "stream",
     "text": [
      "Estructura participants_df:\n",
      "<class 'pandas.core.frame.DataFrame'>\n",
      "RangeIndex: 14525 entries, 0 to 14524\n",
      "Data columns (total 3 columns):\n",
      " #   Column   Non-Null Count  Dtype \n",
      "---  ------   --------------  ----- \n",
      " 0   user_id  14525 non-null  object\n",
      " 1   group    14525 non-null  object\n",
      " 2   ab_test  14525 non-null  object\n",
      "dtypes: object(3)\n",
      "memory usage: 340.6+ KB\n",
      "None\n",
      "\n",
      "Estructura new_users_df:\n",
      "<class 'pandas.core.frame.DataFrame'>\n",
      "RangeIndex: 58703 entries, 0 to 58702\n",
      "Data columns (total 4 columns):\n",
      " #   Column      Non-Null Count  Dtype         \n",
      "---  ------      --------------  -----         \n",
      " 0   user_id     58703 non-null  object        \n",
      " 1   first_date  58703 non-null  datetime64[ns]\n",
      " 2   region      58703 non-null  object        \n",
      " 3   device      58703 non-null  object        \n",
      "dtypes: datetime64[ns](1), object(3)\n",
      "memory usage: 1.8+ MB\n",
      "None\n",
      "\n",
      "Estructura events_df:\n",
      "<class 'pandas.core.frame.DataFrame'>\n",
      "RangeIndex: 423761 entries, 0 to 423760\n",
      "Data columns (total 4 columns):\n",
      " #   Column      Non-Null Count   Dtype         \n",
      "---  ------      --------------   -----         \n",
      " 0   user_id     423761 non-null  object        \n",
      " 1   event_dt    423761 non-null  datetime64[ns]\n",
      " 2   event_name  423761 non-null  object        \n",
      " 3   details     60314 non-null   float64       \n",
      "dtypes: datetime64[ns](1), float64(1), object(2)\n",
      "memory usage: 12.9+ MB\n",
      "None\n",
      "\n",
      "Estructura marketing_df:\n",
      "<class 'pandas.core.frame.DataFrame'>\n",
      "RangeIndex: 14 entries, 0 to 13\n",
      "Data columns (total 4 columns):\n",
      " #   Column     Non-Null Count  Dtype         \n",
      "---  ------     --------------  -----         \n",
      " 0   name       14 non-null     object        \n",
      " 1   regions    14 non-null     object        \n",
      " 2   start_dt   14 non-null     datetime64[ns]\n",
      " 3   finish_dt  14 non-null     datetime64[ns]\n",
      "dtypes: datetime64[ns](2), object(2)\n",
      "memory usage: 576.0+ bytes\n",
      "None\n"
     ]
    }
   ],
   "source": [
    "print(\"Estructura participants_df:\")\n",
    "print(participants_df.info())\n",
    "\n",
    "print(\"\\nEstructura new_users_df:\")\n",
    "print(new_users_df.info())\n",
    "\n",
    "print(\"\\nEstructura events_df:\")\n",
    "print(events_df.info())\n",
    "\n",
    "print(\"\\nEstructura marketing_df:\")\n",
    "print(marketing_df.info())"
   ]
  },
  {
   "cell_type": "markdown",
   "metadata": {},
   "source": [
    "**Comentarios**\n",
    "\n",
    "-cambiamos a datetime las columnas de fechas\n",
    "\n",
    "-La mayoría de los valores nulos en details provienen de eventos que no son purchase. Esto es correcto y esperado."
   ]
  },
  {
   "cell_type": "markdown",
   "metadata": {},
   "source": [
    "### ¿El número de eventos por usuario está distribuido equitativamente entre las muestras?"
   ]
  },
  {
   "cell_type": "code",
   "execution_count": 21,
   "metadata": {},
   "outputs": [],
   "source": [
    "eu_users = new_users_df[new_users_df['region'] == 'EU']\n",
    "eu_users = pd.merge(eu_users, participants_df, on='user_id', how='inner')"
   ]
  },
  {
   "cell_type": "code",
   "execution_count": 22,
   "metadata": {},
   "outputs": [],
   "source": [
    "eu_events = pd.merge(events_df, eu_users[['user_id', 'first_date', 'group']], on='user_id', how='inner')\n"
   ]
  },
  {
   "cell_type": "code",
   "execution_count": 23,
   "metadata": {},
   "outputs": [],
   "source": [
    "eu_events = eu_events[eu_events['event_dt'] <= eu_events['first_date'] + pd.Timedelta(days=14)]"
   ]
  },
  {
   "cell_type": "code",
   "execution_count": 26,
   "metadata": {},
   "outputs": [
    {
     "name": "stdout",
     "output_type": "stream",
     "text": [
      "            user_id group  event_count\n",
      "0  0002CE61FF2C4011     A           12\n",
      "1  001064FEAAB631A1     B           12\n",
      "2  0010A1C096941592     A           12\n",
      "3  001E72F50D1C48FA     B            6\n",
      "4  002412F1EB3F6E38     A            6\n"
     ]
    }
   ],
   "source": [
    "eventos_por_usuario = eu_events.groupby(['user_id', 'group'])['event_name'].count().reset_index(name='event_count')\n",
    "print(eventos_por_usuario.head())"
   ]
  },
  {
   "cell_type": "code",
   "execution_count": 25,
   "metadata": {},
   "outputs": [
    {
     "data": {
      "image/png": "[encoded data removed]",
      "text/plain": [
       "<Figure size 1000x500 with 1 Axes>"
      ]
     },
     "metadata": {},
     "output_type": "display_data"
    },
    {
     "name": "stdout",
     "output_type": "stream",
     "text": [
      "\n",
      "Resumen estadístico de eventos por usuario (por grupo):\n",
      "        count      mean       std  min  25%  50%  75%   max\n",
      "group                                                      \n",
      "A      7730.0  7.195731  4.314443  1.0  4.0  6.0  9.0  40.0\n",
      "B      6153.0  6.811474  4.016006  1.0  4.0  6.0  9.0  36.0\n"
     ]
    }
   ],
   "source": [
    "plt.figure(figsize=(10, 5))\n",
    "sns.histplot(data=eventos_por_usuario, x='event_count', hue='group', kde=True, bins=30, palette='Set1')\n",
    "plt.title(\"Distribución de eventos por usuario en cada grupo\")\n",
    "plt.xlabel(\"Cantidad de eventos por usuario\")\n",
    "plt.ylabel(\"Número de usuarios\")\n",
    "plt.grid(True)\n",
    "plt.tight_layout()\n",
    "plt.show()\n",
    "\n",
    "print(\"\\nResumen estadístico de eventos por usuario (por grupo):\")\n",
    "print(eventos_por_usuario.groupby('group')['event_count'].describe())"
   ]
  },
  {
   "cell_type": "markdown",
   "metadata": {},
   "source": [
    "**comentarios**\n",
    "\n",
    "La forma de la distribución para ambos grupos A y B es muy similar.\n",
    "\n",
    "Ambos tienen una moda alrededor de los 6-7 eventos por usuario.\n",
    "\n",
    "Hay ligeros picos en valores más altos (40 en A y 36 en B), pero no afectan la tendencia general.\n",
    "\n",
    "el número de eventos por usuario está razonablemente distribuido entre las muestras A y B. Esto refuerza la validez del test A/B."
   ]
  },
  {
   "cell_type": "markdown",
   "metadata": {},
   "source": [
    "### ¿Hay usuarios que están presentes en ambas muestras?"
   ]
  },
  {
   "cell_type": "code",
   "execution_count": 39,
   "metadata": {},
   "outputs": [
    {
     "name": "stdout",
     "output_type": "stream",
     "text": [
      "Usuarios que aparecen en ambos grupos:\n",
      "                user_id group                  ab_test\n",
      "2      DABC14FDDFADD29E     A  recommender_system_test\n",
      "3      04988C5DF189632E     A  recommender_system_test\n",
      "8      B3A2485649E4A012     A  recommender_system_test\n",
      "15     EAFB9027A27D510C     B  recommender_system_test\n",
      "17     5D5E6EE92AF6E9E0     B  recommender_system_test\n",
      "...                 ...   ...                      ...\n",
      "14433  7DF21AEB1AA231F9     B        interface_eu_test\n",
      "14445  EA6EA431FF84563B     B        interface_eu_test\n",
      "14470  70BF82527E6ED9C3     A        interface_eu_test\n",
      "14487  EF2E4FAF26951358     A        interface_eu_test\n",
      "14511  CA6F4DAED160E5B1     A        interface_eu_test\n",
      "\n",
      "[1774 rows x 3 columns]\n"
     ]
    }
   ],
   "source": [
    "duplicados = participants_df[participants_df.duplicated(subset='user_id', keep=False)]\n",
    "\n",
    "print(\"Usuarios que aparecen en ambos grupos:\")\n",
    "print(duplicados)"
   ]
  },
  {
   "cell_type": "code",
   "execution_count": 29,
   "metadata": {},
   "outputs": [],
   "source": [
    "test_name = 'recommender_system_test'\n",
    "participants_clean = participants_df[participants_df['ab_test'] == test_name]"
   ]
  },
  {
   "cell_type": "code",
   "execution_count": 30,
   "metadata": {},
   "outputs": [],
   "source": [
    "duplicados_test = participants_clean[participants_clean.duplicated(subset='user_id', keep=False)]"
   ]
  },
  {
   "cell_type": "code",
   "execution_count": 31,
   "metadata": {},
   "outputs": [
    {
     "name": "stdout",
     "output_type": "stream",
     "text": [
      "Usuarios duplicados dentro del experimento 'recommender_system_test':\n",
      "Empty DataFrame\n",
      "Columns: [user_id, group, ab_test]\n",
      "Index: []\n"
     ]
    }
   ],
   "source": [
    "print(\"Usuarios duplicados dentro del experimento 'recommender_system_test':\")\n",
    "print(duplicados_test)"
   ]
  },
  {
   "cell_type": "markdown",
   "metadata": {},
   "source": [
    "**Comentario**\n",
    "\n",
    "No hay usuarios duplicados dentro de recommender_system_test.\n",
    "\n",
    "Eso significa que cada usuario está correctamente asignado a un único grupo (A o B).\n",
    "\n",
    " Esto garantiza la validez del experimento y nos permite continuar sin necesidad de limpieza adicional."
   ]
  },
  {
   "cell_type": "markdown",
   "metadata": {},
   "source": [
    "### ¿Cómo se distribuye el número de eventos entre los días?"
   ]
  },
  {
   "cell_type": "code",
   "execution_count": 40,
   "metadata": {},
   "outputs": [],
   "source": [
    "eu_users = new_users_df[new_users_df['region'] == 'EU']\n",
    "eu_users = pd.merge(eu_users, participants_df, on='user_id', how='inner')\n",
    "eu_events = pd.merge(events_df, eu_users[['user_id', 'first_date', 'group']], on='user_id', how='inner')\n",
    "eu_events = eu_events[eu_events['event_dt'] <= eu_events['first_date'] + pd.Timedelta(days=14)]"
   ]
  },
  {
   "cell_type": "code",
   "execution_count": 36,
   "metadata": {},
   "outputs": [],
   "source": [
    "eventos_por_dia = eu_events.groupby(eu_events['event_dt'].dt.date)['event_name'].count().reset_index(name='event_count')"
   ]
  },
  {
   "cell_type": "code",
   "execution_count": 35,
   "metadata": {},
   "outputs": [
    {
     "data": {
      "image/png": "[encoded data removed]",
      "text/plain": [
       "<Figure size 1200x500 with 1 Axes>"
      ]
     },
     "metadata": {},
     "output_type": "display_data"
    }
   ],
   "source": [
    "plt.figure(figsize=(12, 5))\n",
    "plt.plot(eventos_por_dia['event_dt'], eventos_por_dia['event_count'], marker='o', color='orange')\n",
    "plt.title(\"Distribución de eventos por día (solo EU)\")\n",
    "plt.xlabel(\"Fecha\")\n",
    "plt.ylabel(\"Número de eventos\")\n",
    "plt.grid(True)\n",
    "plt.xticks(rotation=45)\n",
    "plt.tight_layout()\n",
    "plt.show()"
   ]
  },
  {
   "cell_type": "markdown",
   "metadata": {},
   "source": [
    "**comentario**\n",
    "Inicio estable entre el 7 y el 11 de diciembre (~2,800 a 3,200 eventos diarios).\n",
    "\n",
    "Crecimiento progresivo entre el 12 y el 20 de diciembre.\n",
    "\n",
    "Pico máximo el 21 de diciembre con más de 8,000 eventos (último día de reclutamiento de usuarios).\n",
    "\n",
    "Luego se observa un descenso continuo desde el 22 al 29 de diciembre.\n",
    "\n"
   ]
  },
  {
   "cell_type": "code",
   "execution_count": null,
   "metadata": {},
   "outputs": [],
   "source": []
  },
  {
   "cell_type": "code",
   "execution_count": 41,
   "metadata": {},
   "outputs": [],
   "source": [
    "experiment_users = participants_df.query('ab_test == \"recommender_system_test\"')\n",
    "events_filtered = events_df.merge(experiment_users, on='user_id')"
   ]
  },
  {
   "cell_type": "code",
   "execution_count": 42,
   "metadata": {},
   "outputs": [],
   "source": [
    "events_filtered = events_filtered.merge(new_users_df[['user_id', 'region']], on='user_id')\n",
    "events_filtered = events_filtered[events_filtered['region'] == 'EU']"
   ]
  },
  {
   "cell_type": "code",
   "execution_count": 44,
   "metadata": {},
   "outputs": [],
   "source": [
    "events_unique = events_filtered.drop_duplicates(subset=['user_id', 'event_name'])"
   ]
  },
  {
   "cell_type": "code",
   "execution_count": 45,
   "metadata": {},
   "outputs": [],
   "source": [
    "funnel_counts = events_unique.pivot_table(\n",
    "    index='group',\n",
    "    columns='event_name',\n",
    "    values='user_id',\n",
    "    aggfunc='count'\n",
    ").fillna(0).astype(int)"
   ]
  },
  {
   "cell_type": "code",
   "execution_count": 46,
   "metadata": {},
   "outputs": [],
   "source": [
    "total_users = experiment_users.merge(new_users_df, on='user_id')\n",
    "total_users_eu = total_users[total_users['region'] == 'EU']\n",
    "user_counts = total_users_eu.groupby('group')['user_id'].nunique()"
   ]
  },
  {
   "cell_type": "code",
   "execution_count": 47,
   "metadata": {},
   "outputs": [],
   "source": [
    "funnel_counts['total_users'] = user_counts"
   ]
  },
  {
   "cell_type": "code",
   "execution_count": 48,
   "metadata": {},
   "outputs": [],
   "source": [
    "funnel_counts['rate_product_page'] = funnel_counts['product_page'] / funnel_counts['total_users']\n",
    "funnel_counts['rate_product_cart'] = funnel_counts['product_cart'] / funnel_counts['product_page']\n",
    "funnel_counts['rate_purchase'] = funnel_counts['purchase'] / funnel_counts['product_cart']"
   ]
  },
  {
   "cell_type": "code",
   "execution_count": 49,
   "metadata": {},
   "outputs": [
    {
     "name": "stdout",
     "output_type": "stream",
     "text": [
      "Embudo de conversión por grupo:\n",
      "event_name  total_users  product_page  product_cart  purchase\n",
      "group                                                        \n",
      "A                  2604          1685           782       833\n",
      "B                   877           493           244       249\n",
      "\n",
      "Tasas de conversión por etapa:\n",
      "event_name  rate_product_page  rate_product_cart  rate_purchase\n",
      "group                                                          \n",
      "A                    0.647081           0.464095       1.065217\n",
      "B                    0.562144           0.494929       1.020492\n"
     ]
    }
   ],
   "source": [
    "print(\"Embudo de conversión por grupo:\")\n",
    "print(funnel_counts[['total_users', 'product_page', 'product_cart', 'purchase']])\n",
    "\n",
    "print(\"\\nTasas de conversión por etapa:\")\n",
    "print(funnel_counts[['rate_product_page', 'rate_product_cart', 'rate_purchase']])"
   ]
  },
  {
   "cell_type": "markdown",
   "metadata": {},
   "source": [
    "Usuarios únicos por grupo:\n",
    "Grupo A (control): 2604 usuarios.\n",
    "\n",
    "Grupo B (experimental): 877 usuarios.\n",
    "\n",
    " Esta diferencia es consistente con una muestra experimental menor (B) como parte del 15% de los usuarios nuevos en EU.\n",
    "\n",
    "2. Etapa product_page (primera etapa del embudo):\n",
    "Grupo A: 1685 / 2604 → 64.7% acceden a la página de producto.\n",
    "\n",
    "Grupo B: 493 / 877 → 56.2% acceden a la página.\n",
    "\n",
    "Grupo A tiene mayor tasa de acceso al producto, lo cual es contrario al efecto esperado del nuevo sistema de recomendación.\n",
    "\n",
    "3. Etapa product_cart (añadir al carrito):\n",
    "Grupo A: 782 / 1685 → 46.4% de los que vieron un producto lo agregan.\n",
    "\n",
    "Grupo B: 244 / 493 → 49.5%\n",
    "\n",
    "Aquí Grupo B mejora ligeramente, mostrando un mejor rendimiento en el segundo paso del embudo.\n",
    "\n",
    "4. Etapa purchase (compra):\n",
    "Grupo A: 833 / 782 → 106.5%\n",
    "\n",
    "Grupo B: 249 / 244 → 102%\n",
    "\n",
    "Esta tasa >100% indica datos atípicos: hay más compras únicas que usuarios únicos que pasaron por product_cart. Esto puede deberse a:\n",
    "\n",
    "Duplicados no detectados por usuario-evento.\n",
    "\n",
    "Usuarios que compraron sin pasar por el evento product_cart."
   ]
  },
  {
   "cell_type": "code",
   "execution_count": 54,
   "metadata": {},
   "outputs": [],
   "source": [
    "conversions = {\n",
    "    'product_page': [1685, 493],\n",
    "    'product_cart': [782, 244],\n",
    "    'purchase': [833, 249]\n",
    "}\n",
    "\n",
    "totals = {\n",
    "    'product_page': [2604, 877],\n",
    "    'product_cart': [2604, 877],\n",
    "    'purchase': [2604, 877]\n",
    "}"
   ]
  },
  {
   "cell_type": "code",
   "execution_count": 56,
   "metadata": {},
   "outputs": [],
   "source": [
    "z_results = []"
   ]
  },
  {
   "cell_type": "code",
   "execution_count": 57,
   "metadata": {},
   "outputs": [],
   "source": [
    "for etapa in conversions.keys():\n",
    "    count = conversions[etapa]\n",
    "    nobs = totals[etapa]\n",
    "\n",
    "    try:\n",
    "        z_stat, p_val = proportions_ztest(count, nobs)\n",
    "    except:\n",
    "        z_stat, p_val = np.nan, np.nan\n"
   ]
  },
  {
   "cell_type": "code",
   "execution_count": 58,
   "metadata": {},
   "outputs": [],
   "source": [
    "z_results.append({\n",
    "        'etapa': etapa,\n",
    "        'z_score': z_stat,\n",
    "        'p_value': p_val\n",
    "    })"
   ]
  },
  {
   "cell_type": "code",
   "execution_count": 59,
   "metadata": {},
   "outputs": [
    {
     "name": "stdout",
     "output_type": "stream",
     "text": [
      "      etapa  z_score   p_value\n",
      "0  purchase   1.9906  0.046525\n"
     ]
    }
   ],
   "source": [
    "z_results_df = pd.DataFrame(z_results)\n",
    "print(z_results_df)"
   ]
  },
  {
   "cell_type": "markdown",
   "metadata": {},
   "source": [
    " P-value = 0.0465, que es menor al umbral común de significancia estadística de 0.05.\n",
    " Esto significa que hay una diferencia estadísticamente significativa en la tasa de conversión a compras (purchase) entre los grupos A (control) y B (nuevo sistema de recomendaciones)."
   ]
  },
  {
   "cell_type": "markdown",
   "metadata": {},
   "source": [
    "Podemos rechazar la hipótesis nula y afirmar que el nuevo sistema de recomendaciones (grupo B) tuvo un efecto significativo positivo en la tasa de compras, con una mejora mayor al 10% respecto al grupo A.\n",
    "\n"
   ]
  },
  {
   "cell_type": "markdown",
   "metadata": {},
   "source": [
    "## conclusion"
   ]
  },
  {
   "cell_type": "markdown",
   "metadata": {},
   "source": [
    "**Interpretación final**\n",
    "\n",
    "El nuevo sistema de recomendaciones (grupo B) generó una mejora estadísticamente significativa en la tasa de compras en comparación con el grupo de control.\n",
    "\n",
    "Aunque la conversión en la etapa product_page fue ligeramente menor en el grupo B, la tasa de purchase fue mejor y estadísticamente significativa, lo que valida la eficacia del nuevo sistema.\n",
    "\n",
    " **Recomendación:**\n",
    "Se recomienda implementar el nuevo sistema de recomendaciones a toda la audiencia, ya que mejora las compras dentro de los primeros 14 días de registro y cumple con el objetivo del experimento.\n",
    "\n"
   ]
  }
 ],
 "metadata": {
  "kernelspec": {
   "display_name": "Python 3 (ipykernel)",
   "language": "python",
   "name": "python3"
  },
  "language_info": {
   "codemirror_mode": {
    "name": "ipython",
    "version": 3
   },
   "file_extension": ".py",
   "mimetype": "text/x-python",
   "name": "python",
   "nbconvert_exporter": "python",
   "pygments_lexer": "ipython3",
   "version": "3.9.23"
  }
 },
 "nbformat": 4,
 "nbformat_minor": 4
}
